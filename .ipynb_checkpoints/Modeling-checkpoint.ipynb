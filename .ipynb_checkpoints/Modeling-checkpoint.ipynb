{
 "cells": [
  {
   "cell_type": "code",
   "execution_count": 47,
   "id": "transparent-delay",
   "metadata": {},
   "outputs": [],
   "source": [
    "# All Package Imports\n",
    "import os\n",
    "import pandas as pd\n",
    "import numpy as np\n",
    "from pprint import pprint\n",
    "import matplotlib.pyplot as plt\n",
    "import seaborn as sns\n",
    "import warnings\n",
    "import time\n",
    "warnings.filterwarnings(\"ignore\")\n",
    "\n",
    "# import sklearn packages for modelling\n",
    "from sklearn.preprocessing import MinMaxScaler\n",
    "from sklearn.impute import SimpleImputer\n",
    "imputer = SimpleImputer(missing_values=np.nan, strategy='mean')\n",
    "from sklearn.preprocessing import LabelEncoder\n",
    "from sklearn.model_selection import train_test_split\n",
    "from sklearn.model_selection import KFold\n",
    "from sklearn.model_selection import cross_val_score\n",
    "from sklearn.metrics import classification_report\n",
    "from sklearn.metrics import confusion_matrix\n",
    "from sklearn.metrics import accuracy_score\n",
    "from sklearn.metrics import precision_score\n",
    "from sklearn.metrics import recall_score\n",
    "from sklearn.metrics import roc_auc_score\n",
    "from sklearn.pipeline import Pipeline\n",
    "from sklearn.linear_model import LogisticRegression\n",
    "from sklearn.tree import DecisionTreeClassifier\n",
    "from sklearn.neighbors import KNeighborsClassifier\n",
    "from sklearn.naive_bayes import GaussianNB\n",
    "from sklearn.svm import SVC\n",
    "from sklearn.ensemble import RandomForestClassifier\n",
    "import lightgbm as lgb\n",
    "import gc\n",
    "\n",
    "%matplotlib inline"
   ]
  },
  {
   "cell_type": "code",
   "execution_count": 3,
   "id": "leading-portland",
   "metadata": {},
   "outputs": [],
   "source": [
    "# loading datasets\n",
    "train_data = pd.read_csv(\"dataset/application_train.csv\")\n",
    "test_data = pd.read_csv(\"dataset/application_test.csv\")"
   ]
  },
  {
   "cell_type": "markdown",
   "id": "interpreted-humanity",
   "metadata": {},
   "source": [
    "Based on EDA_report.html and analysis we need to (as a preprocessing step):\n",
    "  - Handle missing values.\n",
    "  - Drop non importante columns.\n",
    "  - Fix outliers.\n",
    "  - Encoding categorical variables.\n",
    "  - Feature Engineer some features.\n",
    "  - Fit initial models with and without features.\n",
    "  - Test a final model."
   ]
  },
  {
   "cell_type": "code",
   "execution_count": 4,
   "id": "center-lawyer",
   "metadata": {},
   "outputs": [
    {
     "name": "stdout",
     "output_type": "stream",
     "text": [
      "NAME_CONTRACT_TYPE was encoded\n",
      "FLAG_OWN_CAR was encoded\n",
      "FLAG_OWN_REALTY was encoded\n",
      "3 columns were label encoded.\n"
     ]
    }
   ],
   "source": [
    "# Create a label encoder object\n",
    "le = LabelEncoder()\n",
    "le_count = 0\n",
    "\n",
    "# Iterate through the columns\n",
    "for col in train_data:\n",
    "    if train_data[col].dtype == 'object':\n",
    "        # If 2 or fewer unique categories\n",
    "        if len(list(train_data[col].unique())) <= 2:\n",
    "            print(\"{} was encoded\".format(col))\n",
    "            # Train on the training data\n",
    "            le.fit(train_data[col])\n",
    "            # Transform both training and testing data\n",
    "            train_data[col] = le.transform(train_data[col])\n",
    "            test_data[col] = le.transform(test_data[col])\n",
    "            \n",
    "            # Keep track of how many columns were label encoded\n",
    "            le_count += 1\n",
    "            \n",
    "print('%d columns were label encoded.' % le_count)"
   ]
  },
  {
   "cell_type": "code",
   "execution_count": 5,
   "id": "removable-carpet",
   "metadata": {},
   "outputs": [
    {
     "name": "stdout",
     "output_type": "stream",
     "text": [
      "Training Features shape:  (307511, 243)\n",
      "Testing Features shape:  (48744, 239)\n",
      "Aligned Training Features shape:  (307511, 240)\n",
      "Aligned Testing Features shape:  (48744, 239)\n"
     ]
    }
   ],
   "source": [
    "# one-hot encoding of categorical variables\n",
    "train_data = pd.get_dummies(train_data)\n",
    "test_data = pd.get_dummies(test_data)\n",
    "\n",
    "print('Training Features shape: ', train_data.shape)\n",
    "print('Testing Features shape: ', test_data.shape)\n",
    "train_labels = train_data['TARGET']\n",
    "\n",
    "# Align the training and testing data, keep only columns present in both dataframes\n",
    "train_data, test_data = train_data.align(test_data, join = 'inner', axis = 1)\n",
    "\n",
    "# Add the target back in\n",
    "train_data['TARGET'] = train_labels\n",
    "print('Aligned Training Features shape: ', train_data.shape)\n",
    "print('Aligned Testing Features shape: ', test_data.shape)"
   ]
  },
  {
   "cell_type": "code",
   "execution_count": 31,
   "id": "forty-master",
   "metadata": {},
   "outputs": [],
   "source": [
    "# create X_train, y_train\n",
    "X_train = train_data.drop('TARGET', axis = 1)\n",
    "y_train = train_data['TARGET']\n",
    "X_test = test_data\n",
    "\n",
    "X_train = X_train.drop('SK_ID_CURR', axis = 1)\n",
    "X_test = X_test.drop('SK_ID_CURR', axis = 1)\n",
    "\n",
    "features = list(X_train.columns)"
   ]
  },
  {
   "cell_type": "code",
   "execution_count": 36,
   "id": "promotional-pepper",
   "metadata": {},
   "outputs": [
    {
     "name": "stdout",
     "output_type": "stream",
     "text": [
      "Training data shape:  (307511, 238)\n",
      "Testing data shape:  (48744, 238)\n"
     ]
    }
   ],
   "source": [
    "def data_preparation(X_train, X_test):\n",
    "    # Scale each feature to 0-1\n",
    "    scaler = MinMaxScaler(feature_range = (0, 1))\n",
    "\n",
    "    # Fit on the training data\n",
    "    imputer.fit(X_train)\n",
    "\n",
    "    # Transform both training and testing data\n",
    "    X_train = imputer.transform(X_train)\n",
    "    X_test = imputer.transform(X_test)\n",
    "\n",
    "    # Repeat with the scaler\n",
    "    scaler.fit(X_train)\n",
    "    train = scaler.transform(X_train)\n",
    "    test = scaler.transform(X_test)\n",
    "\n",
    "    print('Training data shape: ', X_train.shape)\n",
    "    print('Testing data shape: ', X_test.shape)\n",
    "    return X_train, X_test, test\n",
    "    \n",
    "X_train, X_test, test = data_preparation(X_train, X_test)"
   ]
  },
  {
   "cell_type": "code",
   "execution_count": 34,
   "id": "republican-notion",
   "metadata": {},
   "outputs": [
    {
     "name": "stdout",
     "output_type": "stream",
     "text": [
      "Please wait while models train..\n",
      "LR--> score: 0.6200673567604069   (Training Time: 0.9540316263834635mins)\n",
      "KNN--> score: 0.5526983330113195   (Training Time: 4.714011375109354mins)\n",
      "DTC--> score: 0.5401639720398487   (Training Time: 2.318129765987396mins)\n",
      "GNB--> score: 0.6033375699550344   (Training Time: 0.1316713531812032mins)\n",
      "RF--> score: 0.7114451282693808   (Training Time: 8.800005952517191mins)\n"
     ]
    }
   ],
   "source": [
    "# Using Cross Validation to find a good model\n",
    "num_folds = 5\n",
    "seed = 1\n",
    "scoring = 'roc_auc'\n",
    "models = []\n",
    "\n",
    "# Typical Classifiers\n",
    "models.append(('LR', LogisticRegression()))\n",
    "models.append(('KNN', KNeighborsClassifier()))\n",
    "models.append(('DTC', DecisionTreeClassifier()))\n",
    "models.append(('GNB', GaussianNB()))\n",
    "models.append(('RF', RandomForestClassifier()))\n",
    "\n",
    "# iterate over models and print cross val scores\n",
    "results = []\n",
    "names = []\n",
    "print('Please wait while models train..')\n",
    "for name, model in models:\n",
    "    \n",
    "    # start timer\n",
    "    start = time.time()\n",
    "    \n",
    "    # Cross Validation\n",
    "    kfold = KFold(n_splits=num_folds, random_state=seed)\n",
    "    cv_results = cross_val_score(model, X_train, y_train, cv=kfold, scoring=scoring)\n",
    "    results.append(cv_results)\n",
    "    names.append(name)\n",
    "    \n",
    "    # stop timing\n",
    "    end = time.time()\n",
    "    time_run = (end - start)/60\n",
    "    output = \"{}--> score: {}   (Training Time: {}mins)\".format(name, cv_results.mean(), time_run)\n",
    "    \n",
    "    print(output)"
   ]
  },
  {
   "cell_type": "code",
   "execution_count": 38,
   "id": "streaming-stomach",
   "metadata": {},
   "outputs": [
    {
     "name": "stderr",
     "output_type": "stream",
     "text": [
      "[Parallel(n_jobs=-1)]: Using backend ThreadingBackend with 12 concurrent workers.\n",
      "[Parallel(n_jobs=-1)]: Done  26 tasks      | elapsed:   22.0s\n",
      "[Parallel(n_jobs=-1)]: Done 100 out of 100 | elapsed:  1.1min finished\n",
      "[Parallel(n_jobs=12)]: Using backend ThreadingBackend with 12 concurrent workers.\n",
      "[Parallel(n_jobs=12)]: Done  26 tasks      | elapsed:    0.0s\n",
      "[Parallel(n_jobs=12)]: Done 100 out of 100 | elapsed:    0.1s finished\n"
     ]
    }
   ],
   "source": [
    "def train_RF_model(X_train, y_train, X_test, features):\n",
    "    RF = RandomForestClassifier(n_estimators = 100, random_state = 50, verbose = 1, n_jobs = -1)\n",
    "    RF.fit(X_train,y_train)\n",
    "\n",
    "    # Extract feature importances\n",
    "    feature_importance_values = RF.feature_importances_\n",
    "    feature_importances = pd.DataFrame({'Feature': features, 'Importance': feature_importance_values})\n",
    "\n",
    "    # Make predictions on the test data\n",
    "    predictions = RF.predict_proba(test)[:, 1]\n",
    "\n",
    "    # Make a submission dataframe\n",
    "    submit = test_data[['SK_ID_CURR']]\n",
    "    submit['TARGET'] = predictions\n",
    "\n",
    "    # Save the submission dataframe\n",
    "    submit.to_csv('random_forest_baseline.csv', index = False)\n",
    "    return feature_importances\n",
    "\n",
    "feature_importances = train_RF_model(X_train, y_train, X_test, features)"
   ]
  },
  {
   "cell_type": "code",
   "execution_count": 39,
   "id": "simplified-loading",
   "metadata": {},
   "outputs": [
    {
     "data": {
      "text/plain": [
       "<Figure size 720x1152 with 0 Axes>"
      ]
     },
     "metadata": {},
     "output_type": "display_data"
    },
    {
     "data": {
      "image/png": "[encoded data removed]",
      "text/plain": [
       "<Figure size 720x720 with 1 Axes>"
      ]
     },
     "metadata": {
      "needs_background": "light"
     },
     "output_type": "display_data"
    }
   ],
   "source": [
    "# Function to plot feature importance\n",
    "def plot_feature_importance(df):\n",
    "\n",
    "    # Normalize the feature importances to add up to one\n",
    "    df['Importance_normalized'] = df['Importance'] / df['Importance'].sum()\n",
    "    df = df.sort_values('Importance_normalized', ascending = True).tail(20)\n",
    "\n",
    "    # Make a horizontal bar chart of feature importances\n",
    "    plt.figure(figsize = (10, 16))\n",
    "\n",
    "    ax = df.plot(x = 'Feature' , y = 'Importance_normalized', kind = 'barh', figsize=(10,10), color = 'gray')\n",
    "    \n",
    "    # Plot labeling\n",
    "    plt.xlabel('Importance')\n",
    "    plt.title('Feature Importances')\n",
    "    plt.show()\n",
    "    \n",
    "    # return top 20 features\n",
    "    return(df['Feature'])\n",
    "\n",
    "top20 = plot_feature_importance(feature_importances)"
   ]
  },
  {
   "cell_type": "markdown",
   "id": "assumed-pasta",
   "metadata": {},
   "source": [
    "OKAY, It was a simple model which we can now improve it by:\n",
    "   - Enriching the dataset with additional data (Adding Features).\n",
    "   - Create new features from existing data (Feature Engineering).\n",
    "   - Tuning Hyperparameters to improve the model performance."
   ]
  },
  {
   "cell_type": "code",
   "execution_count": 40,
   "id": "thorough-facial",
   "metadata": {},
   "outputs": [],
   "source": [
    "bureau = pd.read_csv(\"dataset/bureau.csv\")"
   ]
  },
  {
   "cell_type": "code",
   "execution_count": 41,
   "id": "rural-cigarette",
   "metadata": {},
   "outputs": [
    {
     "data": {
      "text/html": [
       "<div>\n",
       "<style scoped>\n",
       "    .dataframe tbody tr th:only-of-type {\n",
       "        vertical-align: middle;\n",
       "    }\n",
       "\n",
       "    .dataframe tbody tr th {\n",
       "        vertical-align: top;\n",
       "    }\n",
       "\n",
       "    .dataframe thead th {\n",
       "        text-align: right;\n",
       "    }\n",
       "</style>\n",
       "<table border=\"1\" class=\"dataframe\">\n",
       "  <thead>\n",
       "    <tr style=\"text-align: right;\">\n",
       "      <th></th>\n",
       "      <th>SK_ID_CURR</th>\n",
       "      <th>active_loan_counts</th>\n",
       "    </tr>\n",
       "  </thead>\n",
       "  <tbody>\n",
       "    <tr>\n",
       "      <th>0</th>\n",
       "      <td>100001</td>\n",
       "      <td>3</td>\n",
       "    </tr>\n",
       "    <tr>\n",
       "      <th>1</th>\n",
       "      <td>100002</td>\n",
       "      <td>2</td>\n",
       "    </tr>\n",
       "    <tr>\n",
       "      <th>2</th>\n",
       "      <td>100003</td>\n",
       "      <td>1</td>\n",
       "    </tr>\n",
       "    <tr>\n",
       "      <th>3</th>\n",
       "      <td>100005</td>\n",
       "      <td>2</td>\n",
       "    </tr>\n",
       "    <tr>\n",
       "      <th>4</th>\n",
       "      <td>100008</td>\n",
       "      <td>1</td>\n",
       "    </tr>\n",
       "  </tbody>\n",
       "</table>\n",
       "</div>"
      ],
      "text/plain": [
       "   SK_ID_CURR  active_loan_counts\n",
       "0      100001                   3\n",
       "1      100002                   2\n",
       "2      100003                   1\n",
       "3      100005                   2\n",
       "4      100008                   1"
      ]
     },
     "execution_count": 41,
     "metadata": {},
     "output_type": "execute_result"
    }
   ],
   "source": [
    "# create feature dataframe\n",
    "bureau_agg = bureau['SK_ID_CURR'].unique()\n",
    "bureau_agg = pd.DataFrame(bureau_agg, columns = ['SK_ID_CURR'])\n",
    "# previous loan count\n",
    "previous_loan_counts = bureau.groupby('SK_ID_CURR', as_index=False)['SK_ID_BUREAU'].count().rename(columns = {'SK_ID_BUREAU': 'previous_loan_counts'})\n",
    "previous_loan_counts.head()\n",
    "bureau_agg = bureau_agg.merge(previous_loan_counts, on = 'SK_ID_CURR', how = 'left')\n",
    "# active loan count\n",
    "active_loan_counts = bureau[bureau['CREDIT_ACTIVE'] == 'Active'].groupby('SK_ID_CURR', as_index=False)['SK_ID_BUREAU'].count().rename(columns = {'SK_ID_BUREAU': 'active_loan_counts'})\n",
    "active_loan_counts.head()"
   ]
  },
  {
   "cell_type": "code",
   "execution_count": 42,
   "id": "missing-afghanistan",
   "metadata": {},
   "outputs": [],
   "source": [
    "# join new features\n",
    "bureau_agg = bureau_agg.merge(active_loan_counts, on = 'SK_ID_CURR', how = 'left')\n",
    "# fill na\n",
    "bureau_agg = bureau_agg.fillna(0)"
   ]
  },
  {
   "cell_type": "code",
   "execution_count": 43,
   "id": "quick-logistics",
   "metadata": {},
   "outputs": [],
   "source": [
    "# join additional features onto train and test\n",
    "train_data_features = train_data.merge(bureau_agg, on = 'SK_ID_CURR', how = 'left')\n",
    "test_data_features = test_data.merge(bureau_agg, on = 'SK_ID_CURR', how = 'left')\n",
    "train_data_features = train_data_features.fillna(0)\n",
    "test_data_features = test_data_features.fillna(0)"
   ]
  },
  {
   "cell_type": "code",
   "execution_count": 44,
   "id": "contained-agent",
   "metadata": {},
   "outputs": [
    {
     "name": "stdout",
     "output_type": "stream",
     "text": [
      "Training data shape:  (307511, 242)\n",
      "Testing data shape:  (48744, 241)\n"
     ]
    }
   ],
   "source": [
    "print('Training data shape: ', train_data_features.shape)\n",
    "print('Testing data shape: ', test_data_features.shape)"
   ]
  },
  {
   "cell_type": "code",
   "execution_count": 45,
   "id": "accepting-bouquet",
   "metadata": {},
   "outputs": [
    {
     "name": "stdout",
     "output_type": "stream",
     "text": [
      "Training data shape:  (307511, 240)\n",
      "Testing data shape:  (48744, 240)\n"
     ]
    },
    {
     "name": "stderr",
     "output_type": "stream",
     "text": [
      "[Parallel(n_jobs=-1)]: Using backend ThreadingBackend with 12 concurrent workers.\n",
      "[Parallel(n_jobs=-1)]: Done  26 tasks      | elapsed:   20.9s\n",
      "[Parallel(n_jobs=-1)]: Done 100 out of 100 | elapsed:   59.2s finished\n",
      "[Parallel(n_jobs=12)]: Using backend ThreadingBackend with 12 concurrent workers.\n",
      "[Parallel(n_jobs=12)]: Done  26 tasks      | elapsed:    0.0s\n",
      "[Parallel(n_jobs=12)]: Done 100 out of 100 | elapsed:    0.1s finished\n"
     ]
    },
    {
     "data": {
      "text/plain": [
       "<Figure size 720x1152 with 0 Axes>"
      ]
     },
     "metadata": {},
     "output_type": "display_data"
    },
    {
     "data": {
      "image/png": "[encoded data removed]",
      "text/plain": [
       "<Figure size 720x720 with 1 Axes>"
      ]
     },
     "metadata": {
      "needs_background": "light"
     },
     "output_type": "display_data"
    }
   ],
   "source": [
    "# create X_train, y_train\n",
    "X_train = train_data_features.drop('TARGET', axis = 1)\n",
    "y_train = train_data_features['TARGET']\n",
    "X_test = test_data_features\n",
    "\n",
    "X_train = X_train.drop('SK_ID_CURR', axis = 1)\n",
    "X_test = X_test.drop('SK_ID_CURR', axis = 1)\n",
    "\n",
    "# Feature names\n",
    "features = list(X_train.columns)\n",
    "\n",
    "X_train, X_test, test = data_preparation(X_train, X_test)\n",
    "\n",
    "feature_importances = train_RF_model(X_train, y_train, X_test, features)\n",
    "\n",
    "top20 = plot_feature_importance(feature_importances)"
   ]
  },
  {
   "cell_type": "code",
   "execution_count": null,
   "id": "seven-azerbaijan",
   "metadata": {},
   "outputs": [],
   "source": []
  },
  {
   "cell_type": "code",
   "execution_count": 48,
   "id": "express-validation",
   "metadata": {},
   "outputs": [],
   "source": [
    "def model(features, test_features, encoding = 'ohe', n_folds = 5):\n",
    "    # Extract the ids\n",
    "    train_ids = features['SK_ID_CURR']\n",
    "    test_ids = test_features['SK_ID_CURR']\n",
    "    \n",
    "    # Extract the labels for training\n",
    "    labels = features['TARGET']\n",
    "    \n",
    "    # Remove the ids and target\n",
    "    features = features.drop(columns = ['SK_ID_CURR', 'TARGET'])\n",
    "    test_features = test_features.drop(columns = ['SK_ID_CURR'])\n",
    "    \n",
    "    \n",
    "    # One Hot Encoding\n",
    "    if encoding == 'ohe':\n",
    "        features = pd.get_dummies(features)\n",
    "        test_features = pd.get_dummies(test_features)\n",
    "        \n",
    "        # Align the dataframes by the columns\n",
    "        features, test_features = features.align(test_features, join = 'inner', axis = 1)\n",
    "        \n",
    "        # No categorical indices to record\n",
    "        cat_indices = 'auto'\n",
    "    \n",
    "    # Integer label encoding\n",
    "    elif encoding == 'le':\n",
    "        \n",
    "        # Create a label encoder\n",
    "        label_encoder = LabelEncoder()\n",
    "        \n",
    "        # List for storing categorical indices\n",
    "        cat_indices = []\n",
    "        \n",
    "        # Iterate through each column\n",
    "        for i, col in enumerate(features):\n",
    "            if features[col].dtype == 'object':\n",
    "                # Map the categorical features to integers\n",
    "                features[col] = label_encoder.fit_transform(np.array(features[col].astype(str)).reshape((-1,)))\n",
    "                test_features[col] = label_encoder.transform(np.array(test_features[col].astype(str)).reshape((-1,)))\n",
    "\n",
    "                # Record the categorical indices\n",
    "                cat_indices.append(i)\n",
    "    \n",
    "    # Catch error if label encoding scheme is not valid\n",
    "    else:\n",
    "        raise ValueError(\"Encoding must be either 'ohe' or 'le'\")\n",
    "        \n",
    "    print('Training Data Shape: ', features.shape)\n",
    "    print('Testing Data Shape: ', test_features.shape)\n",
    "    \n",
    "    # Extract feature names\n",
    "    feature_names = list(features.columns)\n",
    "    \n",
    "    # Convert to np arrays\n",
    "    features = np.array(features)\n",
    "    test_features = np.array(test_features)\n",
    "    \n",
    "    # Create the kfold object\n",
    "    k_fold = KFold(n_splits = n_folds, shuffle = True, random_state = 50)\n",
    "    \n",
    "    # Empty array for feature importances\n",
    "    feature_importance_values = np.zeros(len(feature_names))\n",
    "    \n",
    "    # Empty array for test predictions\n",
    "    test_predictions = np.zeros(test_features.shape[0])\n",
    "    \n",
    "    # Empty array for out of fold validation predictions\n",
    "    out_of_fold = np.zeros(features.shape[0])\n",
    "    \n",
    "    # Lists for recording validation and training scores\n",
    "    valid_scores = []\n",
    "    train_scores = []\n",
    "    \n",
    "    # Iterate through each fold\n",
    "    for train_indices, valid_indices in k_fold.split(features):\n",
    "        \n",
    "        # Training data for the fold\n",
    "        train_features, train_labels = features[train_indices], labels[train_indices]\n",
    "        # Validation data for the fold\n",
    "        valid_features, valid_labels = features[valid_indices], labels[valid_indices]\n",
    "        \n",
    "        # Create the model\n",
    "        model = lgb.LGBMClassifier(n_estimators=10000, objective = 'binary', \n",
    "                                   class_weight = 'balanced', learning_rate = 0.05, \n",
    "                                   reg_alpha = 0.1, reg_lambda = 0.1, \n",
    "                                   subsample = 0.8, n_jobs = -1, random_state = 50)\n",
    "        \n",
    "        # Train the model\n",
    "        model.fit(train_features, train_labels, eval_metric = 'auc',\n",
    "                  eval_set = [(valid_features, valid_labels), (train_features, train_labels)],\n",
    "                  eval_names = ['valid', 'train'], categorical_feature = cat_indices,\n",
    "                  early_stopping_rounds = 100, verbose = 200)\n",
    "        \n",
    "        # Record the best iteration\n",
    "        best_iteration = model.best_iteration_\n",
    "        \n",
    "        # Record the feature importances\n",
    "        feature_importance_values += model.feature_importances_ / k_fold.n_splits\n",
    "        \n",
    "        # Make predictions\n",
    "        test_predictions += model.predict_proba(test_features, num_iteration = best_iteration)[:, 1] / k_fold.n_splits\n",
    "        \n",
    "        # Record the out of fold predictions\n",
    "        out_of_fold[valid_indices] = model.predict_proba(valid_features, num_iteration = best_iteration)[:, 1]\n",
    "        \n",
    "        # Record the best score\n",
    "        valid_score = model.best_score_['valid']['auc']\n",
    "        train_score = model.best_score_['train']['auc']\n",
    "        \n",
    "        valid_scores.append(valid_score)\n",
    "        train_scores.append(train_score)\n",
    "        \n",
    "        # Clean up memory\n",
    "        gc.enable()\n",
    "        del model, train_features, valid_features\n",
    "        gc.collect()\n",
    "        \n",
    "    # Make the submission dataframe\n",
    "    submission = pd.DataFrame({'SK_ID_CURR': test_ids, 'TARGET': test_predictions})\n",
    "    \n",
    "    # Make the feature importance dataframe\n",
    "    feature_importances = pd.DataFrame({'feature': feature_names, 'importance': feature_importance_values})\n",
    "    \n",
    "    # Overall validation score\n",
    "    valid_auc = roc_auc_score(labels, out_of_fold)\n",
    "    \n",
    "    # Add the overall scores to the metrics\n",
    "    valid_scores.append(valid_auc)\n",
    "    train_scores.append(np.mean(train_scores))\n",
    "    \n",
    "    # Needed for creating dataframe of validation scores\n",
    "    fold_names = list(range(n_folds))\n",
    "    fold_names.append('overall')\n",
    "    \n",
    "    # Dataframe of validation scores\n",
    "    metrics = pd.DataFrame({'fold': fold_names,\n",
    "                            'train': train_scores,\n",
    "                            'valid': valid_scores}) \n",
    "    \n",
    "    return submission, feature_importances, metrics"
   ]
  },
  {
   "cell_type": "code",
   "execution_count": 49,
   "id": "involved-brass",
   "metadata": {},
   "outputs": [
    {
     "name": "stdout",
     "output_type": "stream",
     "text": [
      "Training Data Shape:  (307511, 240)\n",
      "Testing Data Shape:  (48744, 240)\n",
      "Training until validation scores don't improve for 100 rounds\n",
      "[200]\ttrain's auc: 0.798778\ttrain's binary_logloss: 0.548048\tvalid's auc: 0.756349\tvalid's binary_logloss: 0.562904\n",
      "[400]\ttrain's auc: 0.828526\ttrain's binary_logloss: 0.51835\tvalid's auc: 0.756394\tvalid's binary_logloss: 0.544962\n",
      "Early stopping, best iteration is:\n",
      "[312]\ttrain's auc: 0.816513\ttrain's binary_logloss: 0.530424\tvalid's auc: 0.75691\tvalid's binary_logloss: 0.552258\n",
      "Training until validation scores don't improve for 100 rounds\n",
      "[200]\ttrain's auc: 0.798173\ttrain's binary_logloss: 0.548564\tvalid's auc: 0.758765\tvalid's binary_logloss: 0.563616\n",
      "Early stopping, best iteration is:\n",
      "[291]\ttrain's auc: 0.812614\ttrain's binary_logloss: 0.534329\tvalid's auc: 0.759456\tvalid's binary_logloss: 0.555188\n",
      "Training until validation scores don't improve for 100 rounds\n",
      "[200]\ttrain's auc: 0.797732\ttrain's binary_logloss: 0.549504\tvalid's auc: 0.763817\tvalid's binary_logloss: 0.564556\n",
      "[400]\ttrain's auc: 0.827179\ttrain's binary_logloss: 0.520315\tvalid's auc: 0.764523\tvalid's binary_logloss: 0.546416\n",
      "[600]\ttrain's auc: 0.850847\ttrain's binary_logloss: 0.495532\tvalid's auc: 0.764396\tvalid's binary_logloss: 0.531055\n",
      "Early stopping, best iteration is:\n",
      "[523]\ttrain's auc: 0.842369\ttrain's binary_logloss: 0.504543\tvalid's auc: 0.764918\tvalid's binary_logloss: 0.536679\n",
      "Training until validation scores don't improve for 100 rounds\n",
      "[200]\ttrain's auc: 0.798258\ttrain's binary_logloss: 0.548767\tvalid's auc: 0.760012\tvalid's binary_logloss: 0.562289\n",
      "Early stopping, best iteration is:\n",
      "[258]\ttrain's auc: 0.807922\ttrain's binary_logloss: 0.539229\tvalid's auc: 0.760518\tvalid's binary_logloss: 0.556323\n",
      "Training until validation scores don't improve for 100 rounds\n",
      "[200]\ttrain's auc: 0.797986\ttrain's binary_logloss: 0.548863\tvalid's auc: 0.759786\tvalid's binary_logloss: 0.564469\n",
      "[400]\ttrain's auc: 0.827682\ttrain's binary_logloss: 0.519374\tvalid's auc: 0.75983\tvalid's binary_logloss: 0.546536\n",
      "Early stopping, best iteration is:\n",
      "[336]\ttrain's auc: 0.81903\ttrain's binary_logloss: 0.528052\tvalid's auc: 0.760161\tvalid's binary_logloss: 0.551845\n",
      "Baseline metrics\n",
      "      fold     train     valid\n",
      "0        0  0.816513  0.756910\n",
      "1        1  0.812614  0.759456\n",
      "2        2  0.842369  0.764918\n",
      "3        3  0.807922  0.760518\n",
      "4        4  0.819030  0.760161\n",
      "5  overall  0.819690  0.760363\n"
     ]
    }
   ],
   "source": [
    "submission, fi, metrics = model(train_data_features, test_data_features)\n",
    "print('Baseline metrics')\n",
    "print(metrics)"
   ]
  },
  {
   "cell_type": "code",
   "execution_count": 52,
   "id": "psychological-branch",
   "metadata": {},
   "outputs": [],
   "source": [
    "def plot_feature_importances(df, num_bars = 15):\n",
    "    \"\"\"\n",
    "    Plot importances returned by a model. This can work with any measure of\n",
    "    feature importance provided that higher importance is better. \n",
    "    \n",
    "    Args:\n",
    "        df (dataframe): feature importances. Must have the features in a column\n",
    "        called `features` and the importances in a column called `importance\n",
    "        \n",
    "    Returns:\n",
    "        shows a plot of the 15 most importance features\n",
    "        \n",
    "        df (dataframe): feature importances sorted by importance (highest to lowest) \n",
    "        with a column for normalized importance\n",
    "        \"\"\"\n",
    "\n",
    "    # Sort features according to importance\n",
    "    df = df.sort_values('importance', ascending = False).reset_index()\n",
    "    \n",
    "    # Normalize the feature importances to add up to one\n",
    "    df['importance_normalized'] = df['importance'] / df['importance'].sum()\n",
    "\n",
    "    # Make a horizontal bar chart of feature importances\n",
    "    plt.figure(figsize = (10, 6))\n",
    "    ax = plt.subplot()\n",
    "    \n",
    "    # Need to reverse the index to plot most important on top\n",
    "    ax.barh(list(reversed(list(df.index[:num_bars]))), \n",
    "            df['importance_normalized'].head(num_bars), \n",
    "            align = 'center', edgecolor = 'k')\n",
    "    \n",
    "    # Set the yticks and labels\n",
    "    ax.set_yticks(list(reversed(list(df.index[:num_bars]))))\n",
    "    ax.set_yticklabels(df['feature'].head(num_bars))\n",
    "    \n",
    "    # Plot labeling\n",
    "    plt.xlabel('Normalized Importance'); plt.title('Feature Importances')\n",
    "    plt.show()\n",
    "    \n",
    "    return df"
   ]
  },
  {
   "cell_type": "code",
   "execution_count": 53,
   "id": "fifty-slovenia",
   "metadata": {},
   "outputs": [
    {
     "data": {
      "image/png": "[encoded data removed]",
      "text/plain": [
       "<Figure size 720x432 with 1 Axes>"
      ]
     },
     "metadata": {
      "needs_background": "light"
     },
     "output_type": "display_data"
    }
   ],
   "source": [
    "fi_sorted = plot_feature_importances(fi, 25)"
   ]
  },
  {
   "cell_type": "code",
   "execution_count": null,
   "id": "cellular-bible",
   "metadata": {},
   "outputs": [],
   "source": []
  }
 ],
 "metadata": {
  "kernelspec": {
   "display_name": "Python 3",
   "language": "python",
   "name": "python3"
  },
  "language_info": {
   "codemirror_mode": {
    "name": "ipython",
    "version": 3
   },
   "file_extension": ".py",
   "mimetype": "text/x-python",
   "name": "python",
   "nbconvert_exporter": "python",
   "pygments_lexer": "ipython3",
   "version": "3.7.6"
  }
 },
 "nbformat": 4,
 "nbformat_minor": 5
}
