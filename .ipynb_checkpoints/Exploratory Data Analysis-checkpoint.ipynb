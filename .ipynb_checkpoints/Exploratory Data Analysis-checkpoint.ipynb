{
 "cells": [
  {
   "cell_type": "code",
   "execution_count": 1,
   "id": "current-shuttle",
   "metadata": {},
   "outputs": [],
   "source": [
    "import numpy as np\n",
    "import pandas as pd\n",
    "# https://github.com/pandas-profiling/pandas-profiling\n",
    "from pandas_profiling import ProfileReport\n",
    "import matplotlib.pyplot as plt\n",
    "import matplotlib as mpl\n",
    "import seaborn as sns\n",
    "# import chart_studio.plotly as py\n",
    "# import plotly.graph_objs as go\n",
    "import warnings\n",
    "warnings.filterwarnings(\"ignore\")\n",
    "\n",
    "%matplotlib inline"
   ]
  },
  {
   "cell_type": "code",
   "execution_count": 2,
   "id": "piano-brown",
   "metadata": {},
   "outputs": [],
   "source": [
    "pd.set_option('display.max_rows', 100)\n",
    "pd.set_option('display.max_columns', 130)"
   ]
  },
  {
   "cell_type": "code",
   "execution_count": 3,
   "id": "covered-prediction",
   "metadata": {},
   "outputs": [],
   "source": [
    "# loading datasets\n",
    "train_data = pd.read_csv(\"dataset/application_train.csv\")"
   ]
  },
  {
   "cell_type": "code",
   "execution_count": 11,
   "id": "intelligent-scholar",
   "metadata": {},
   "outputs": [],
   "source": [
    "profile = ProfileReport(train_data, title=\"Pandas Profiling Report\", explorative=True, minimal=True)"
   ]
  },
  {
   "cell_type": "code",
   "execution_count": null,
   "id": "signed-vault",
   "metadata": {},
   "outputs": [
    {
     "data": {
      "application/vnd.jupyter.widget-view+json": {
       "model_id": "6ca915c7024441e8835767ee2a12bcc6",
       "version_major": 2,
       "version_minor": 0
      },
      "text/plain": [
       "Summarize dataset:   0%|          | 0/135 [00:00<?, ?it/s]"
      ]
     },
     "metadata": {},
     "output_type": "display_data"
    },
    {
     "data": {
      "application/vnd.jupyter.widget-view+json": {
       "model_id": "e9bf161751744e0b820396563cdc34ec",
       "version_major": 2,
       "version_minor": 0
      },
      "text/plain": [
       "Generate report structure:   0%|          | 0/1 [00:00<?, ?it/s]"
      ]
     },
     "metadata": {},
     "output_type": "display_data"
    },
    {
     "data": {
      "application/vnd.jupyter.widget-view+json": {
       "model_id": "fb1a78641f7e4d7d840c2d41085ac6d6",
       "version_major": 2,
       "version_minor": 0
      },
      "text/plain": [
       "Render HTML:   0%|          | 0/1 [00:00<?, ?it/s]"
      ]
     },
     "metadata": {},
     "output_type": "display_data"
    }
   ],
   "source": [
    "profile"
   ]
  },
  {
   "cell_type": "code",
   "execution_count": null,
   "id": "introductory-spell",
   "metadata": {},
   "outputs": [
    {
     "data": {
      "application/vnd.jupyter.widget-view+json": {
       "model_id": "e11ca881dcdc4512b87dce5b0e9c5651",
       "version_major": 2,
       "version_minor": 0
      },
      "text/plain": [
       "Render widgets:   0%|          | 0/1 [00:00<?, ?it/s]"
      ]
     },
     "metadata": {},
     "output_type": "display_data"
    }
   ],
   "source": [
    "profile.to_widgets()"
   ]
  },
  {
   "cell_type": "code",
   "execution_count": null,
   "id": "automated-norfolk",
   "metadata": {},
   "outputs": [],
   "source": [
    "profile.to_notebook_iframe()"
   ]
  },
  {
   "cell_type": "code",
   "execution_count": null,
   "id": "objective-george",
   "metadata": {},
   "outputs": [],
   "source": [
    "profile.to_file(\"EDA_report.html\")"
   ]
  },
  {
   "cell_type": "code",
   "execution_count": null,
   "id": "collect-writer",
   "metadata": {},
   "outputs": [],
   "source": [
    "# print('Data Sample:', train_data.head())\n",
    "# print('\\nData INFO: ', train_data.info())\n",
    "# print('\\nData Columns: \\n', train_data.columns)\n",
    "# print('\\nData Dtypes: \\n', train_data.dtypes)\n",
    "# print('\\nData Shape: ',train_data.shape)"
   ]
  },
  {
   "cell_type": "code",
   "execution_count": null,
   "id": "crude-mechanics",
   "metadata": {},
   "outputs": [],
   "source": [
    "# print('\\nData Describtion: ', train_data.describe())\n",
    "# numerical columns description\n",
    "# print(train_data.select_dtypes(include=np.number).describe())"
   ]
  },
  {
   "cell_type": "code",
   "execution_count": null,
   "id": "found-graphics",
   "metadata": {},
   "outputs": [],
   "source": [
    "# we can see here some of non sense value EX: number of days in -ve ['DAYS_BIRTH', 'DAYS_EMPLOYED', 'DAYS_REGISTRATION', 'DAYS_ID_PUBLISH', 'DAYS_LAST_PHONE_CHANGE']\n",
    "# so lets solve it and represent it in years to make it easyer to understand\n",
    "# ['CNT_CHILDREN '] MAX = 19!\n",
    "# let us handle those columns in preprocessing\n",
    "# print((train_data['DAYS_BIRTH'] / -365).describe())"
   ]
  },
  {
   "cell_type": "code",
   "execution_count": null,
   "id": "fewer-controversy",
   "metadata": {},
   "outputs": [],
   "source": [
    "# correlations against ['TARGET']\n",
    "# correlations = train_data.corr()['TARGET'].sort_values(ascending=False)\n",
    "# print(correlations)"
   ]
  },
  {
   "cell_type": "code",
   "execution_count": 4,
   "id": "structured-dominant",
   "metadata": {},
   "outputs": [],
   "source": [
    "top_features = train_data[['TARGET', 'EXT_SOURCE_1', 'EXT_SOURCE_2', 'EXT_SOURCE_3']]\n",
    "corr_data = top_features.corr()"
   ]
  },
  {
   "cell_type": "code",
   "execution_count": 11,
   "id": "simplified-blade",
   "metadata": {},
   "outputs": [
    {
     "data": {
      "text/plain": [
       "Text(0.5, 1.0, 'Correlation Heatmap')"
      ]
     },
     "execution_count": 11,
     "metadata": {},
     "output_type": "execute_result"
    },
    {
     "data": {
      "image/png": "[encoded data removed]",
      "text/plain": [
       "<Figure size 504x504 with 2 Axes>"
      ]
     },
     "metadata": {
      "needs_background": "light"
     },
     "output_type": "display_data"
    }
   ],
   "source": [
    "plt.figure(figsize = (7, 7))\n",
    "sns.heatmap(corr_data, vmin = -0.7, annot = True, vmax = 0.6)\n",
    "plt.title('Correlation Heatmap')"
   ]
  },
  {
   "cell_type": "code",
   "execution_count": null,
   "id": "dirty-surname",
   "metadata": {},
   "outputs": [],
   "source": [
    "# print(train_data['TARGET'].value_counts())\n",
    "# train_data['TARGET'].astype('int').plot.hist()"
   ]
  },
  {
   "cell_type": "code",
   "execution_count": null,
   "id": "indian-antique",
   "metadata": {},
   "outputs": [],
   "source": [
    "# Take a look at the different categories unique values\n",
    "# train.select_dtypes('object').apply(pd.Series.nunique, axis = 0)"
   ]
  }
 ],
 "metadata": {
  "kernelspec": {
   "display_name": "Python 3",
   "language": "python",
   "name": "python3"
  },
  "language_info": {
   "codemirror_mode": {
    "name": "ipython",
    "version": 3
   },
   "file_extension": ".py",
   "mimetype": "text/x-python",
   "name": "python",
   "nbconvert_exporter": "python",
   "pygments_lexer": "ipython3",
   "version": "3.7.6"
  }
 },
 "nbformat": 4,
 "nbformat_minor": 5
}
